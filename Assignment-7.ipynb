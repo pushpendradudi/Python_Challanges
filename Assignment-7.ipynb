{
 "cells": [
  {
   "cell_type": "code",
   "execution_count": 4,
   "id": "10f9c37e-59ba-489e-8dd8-f740148efe14",
   "metadata": {},
   "outputs": [
    {
     "name": "stdout",
     "output_type": "stream",
     "text": [
      "All element Sum of  [2, 3, 4, 5, 6]  array is  20\n"
     ]
    }
   ],
   "source": [
    "### 1. Write a Python Program to find sum of array?\n",
    "import numpy as np\n",
    "n1 =[2,3,4,5,6] #n1 ia an array \n",
    "j=0\n",
    "for i in n1:\n",
    "    j=j+i\n",
    "print('All element Sum of ', n1,' array is ',j)"
   ]
  },
  {
   "cell_type": "code",
   "execution_count": 7,
   "id": "49a716bc-a458-4b74-aa9f-ef6ceacfb791",
   "metadata": {},
   "outputs": [
    {
     "name": "stdout",
     "output_type": "stream",
     "text": [
      "Biggest element in [2 3 4 5 6 7 8]  array is  8\n"
     ]
    }
   ],
   "source": [
    "### 2. Write a Python Program to find largest element in an array?\n",
    "import numpy as np\n",
    "n1=[2,3,4,5,6,7,8]\n",
    "n2=np.array(n1)\n",
    "print('Biggest element in' , n2,' array is ' , max(n2))\n"
   ]
  },
  {
   "cell_type": "code",
   "execution_count": null,
   "id": "64996f13-d170-4991-b0e6-87c8fad89002",
   "metadata": {},
   "outputs": [
    {
     "name": "stdout",
     "output_type": "stream",
     "text": [
      "Array : [5, 4, 6, 8, 9, 10]\n"
     ]
    }
   ],
   "source": [
    "### 3. Write a Python Program for array rotation?\n",
    "arr = [10,17,78,84,67,89,90,100]\n",
    "print('Array :',arr)\n",
    "k=int(input('Please enter the index where you want to rotate the array'))\n",
    "temp=k\n",
    "b=[]\n",
    "while temp<len(arr):\n",
    "    b.append(arr[temp])\n",
    "    temp=temp+1\n",
    "for i in range(k):\n",
    "    b.append(arr[i])\n",
    "    \n",
    "print('New array after roratiting is :', b)"
   ]
  },
  {
   "cell_type": "code",
   "execution_count": 36,
   "id": "8aaffc47-9225-4029-b062-975c0d57d3fe",
   "metadata": {},
   "outputs": [
    {
     "name": "stdout",
     "output_type": "stream",
     "text": [
      "Array : [5, 4, 6, 8, 9, 10]\n"
     ]
    },
    {
     "name": "stdin",
     "output_type": "stream",
     "text": [
      "Please enter the index where you want to split the array 3\n"
     ]
    },
    {
     "name": "stdout",
     "output_type": "stream",
     "text": [
      "New array after splitting is : [8, 9, 10, 5, 4, 6]\n"
     ]
    }
   ],
   "source": [
    "### 4. Write a Python Program to Split the array and add the first part to the end?\n",
    "arr = [5,4,6,8,9,10]\n",
    "print('Array :',arr)\n",
    "k=int(input('Please enter the index where you want to split the array'))\n",
    "temp=k\n",
    "b=[]\n",
    "while temp<len(arr):\n",
    "    b.append(arr[temp])\n",
    "    temp=temp+1\n",
    "for i in range(k):\n",
    "    b.append(arr[i])\n",
    "    \n",
    "print('New array after splitting is :', b)\n"
   ]
  },
  {
   "cell_type": "code",
   "execution_count": 27,
   "id": "092651c1-9e50-455d-a09b-1a7736b21c2f",
   "metadata": {},
   "outputs": [
    {
     "name": "stdout",
     "output_type": "stream",
     "text": [
      " Array  [7 6 5 4]  is Monotonic\n"
     ]
    }
   ],
   "source": [
    "### 5. Write a Python Program to check if given array is Monotonic?\n",
    "import numpy as np\n",
    "n2 =[7,6,5,4]\n",
    "n1=np.array(n2)\n",
    "count =1\n",
    "num =1\n",
    "for i in range(len(n1)-1):\n",
    "        if n1[i]>=n1[i+1]:\n",
    "            count =count+1\n",
    "        elif n1[i]<=n1[i+1]:\n",
    "            num =num+1\n",
    "if count ==len(n1) or num ==len(n1):\n",
    "    print(' Array ', n1 , ' is Monotonic')\n",
    "else:\n",
    "    print('Array ', n1, '  is not Monotonic')\n",
    "    "
   ]
  }
 ],
 "metadata": {
  "kernelspec": {
   "display_name": "Python 3 (ipykernel)",
   "language": "python",
   "name": "python3"
  },
  "language_info": {
   "codemirror_mode": {
    "name": "ipython",
    "version": 3
   },
   "file_extension": ".py",
   "mimetype": "text/x-python",
   "name": "python",
   "nbconvert_exporter": "python",
   "pygments_lexer": "ipython3",
   "version": "3.10.6"
  }
 },
 "nbformat": 4,
 "nbformat_minor": 5
}
