{
 "cells": [
  {
   "cell_type": "code",
   "execution_count": 18,
   "id": "2a52a193-518f-448d-8a20-0c450e0f6375",
   "metadata": {},
   "outputs": [
    {
     "name": "stdout",
     "output_type": "stream",
     "text": [
      "Sum of two matrice is \n",
      " [[ 6  8]\n",
      " [10 12]]\n"
     ]
    }
   ],
   "source": [
    "### 1. Write a Python Program to Add Two Matrices?\n",
    "import numpy as np\n",
    "A =[[1,2],\n",
    "    [3,4]]\n",
    "B=[[5,6],\n",
    "    [7,8]]\n",
    "a=np.array(A)\n",
    "b= np.array(B)\n",
    "print('Sum of two matrice is', '\\n', a+b)"
   ]
  },
  {
   "cell_type": "code",
   "execution_count": 27,
   "id": "970395ed-a118-45db-a4a0-d65c63619f83",
   "metadata": {},
   "outputs": [
    {
     "name": "stdout",
     "output_type": "stream",
     "text": [
      "Multiplication  of two matrice is \n",
      " [[ 5 12]\n",
      " [21 32]]\n"
     ]
    }
   ],
   "source": [
    "### 2. Write a Python Program to Multiply Two Matrices?\n",
    "import numpy as np\n",
    "A =[[1,2],[3,4]]\n",
    "B=[[5,6],[7,8]]\n",
    "a=np.array(A)\n",
    "b= np.array(B)\n",
    "print('Multiplication  of two matrice is', '\\n', a*b)"
   ]
  },
  {
   "cell_type": "code",
   "execution_count": 31,
   "id": "ad434e7c-c03e-4729-aab0-65119894272a",
   "metadata": {},
   "outputs": [
    {
     "name": "stdout",
     "output_type": "stream",
     "text": [
      "Transpose of a matrix is  \n",
      " [[1 3]\n",
      " [2 4]]\n"
     ]
    }
   ],
   "source": [
    "### 3. Write a Python Program to Transpose a Matrix?\n",
    "import numpy as np\n",
    "A =[[1,2],[3,4]]\n",
    "a=np.array(A)\n",
    "print('Transpose of a matrix is ','\\n' , np.transpose(a))"
   ]
  },
  {
   "cell_type": "code",
   "execution_count": 4,
   "id": "b65f0f83-1b6f-46fb-a3af-0f4ca9cc30ee",
   "metadata": {},
   "outputs": [
    {
     "name": "stdin",
     "output_type": "stream",
     "text": [
      "enter a string i am a very good human being\n"
     ]
    },
    {
     "name": "stdout",
     "output_type": "stream",
     "text": [
      "sorting letters  ['a', 'am', 'being', 'good', 'human', 'i', 'very']\n"
     ]
    }
   ],
   "source": [
    "### 4. Write a Python Program to Sort Words in Alphabetic Order?\n",
    "str=input('enter a string')\n",
    "words = str.split()\n",
    "words.sort()\n",
    "print('sorting letters ' , words )"
   ]
  },
  {
   "cell_type": "code",
   "execution_count": null,
   "id": "1ac6cc59-dc72-471a-ae67-96df5f432c93",
   "metadata": {},
   "outputs": [],
   "source": [
    "### 5. Write a Python Program to Remove Punctuation From a String?\n",
    "punctuation = '''''! ()-[]{};:'\"\\,<>./? @#$%^&*_~'''\n",
    "str= input('enter a string')\n",
    "no_punct =\"\"\n",
    "for i in str:\n",
    "    if i not in punctuation:\n",
    "        no_punct = no_punct + i\n",
    "print('Letter of string without punctuation is  ', no_punct)"
   ]
  },
  {
   "cell_type": "code",
   "execution_count": 8,
   "id": "7a5a444b-d31c-40e1-a256-9d3c0355a3eb",
   "metadata": {},
   "outputs": [
    {
     "name": "stdin",
     "output_type": "stream",
     "text": [
      "enter a string i am puisjsd\n"
     ]
    },
    {
     "name": "stdout",
     "output_type": "stream",
     "text": [
      "i\n",
      " \n",
      "a\n",
      "m\n",
      " \n",
      "p\n",
      "u\n",
      "i\n",
      "s\n",
      "j\n",
      "s\n",
      "d\n"
     ]
    }
   ],
   "source": [
    "str= input('enter a string')\n",
    "for i in str:\n",
    "    print(i)"
   ]
  },
  {
   "cell_type": "code",
   "execution_count": null,
   "id": "77213487-ca3f-492e-8d67-d33bf0b5f2a3",
   "metadata": {},
   "outputs": [],
   "source": []
  }
 ],
 "metadata": {
  "kernelspec": {
   "display_name": "Python 3 (ipykernel)",
   "language": "python",
   "name": "python3"
  },
  "language_info": {
   "codemirror_mode": {
    "name": "ipython",
    "version": 3
   },
   "file_extension": ".py",
   "mimetype": "text/x-python",
   "name": "python",
   "nbconvert_exporter": "python",
   "pygments_lexer": "ipython3",
   "version": "3.10.6"
  }
 },
 "nbformat": 4,
 "nbformat_minor": 5
}
