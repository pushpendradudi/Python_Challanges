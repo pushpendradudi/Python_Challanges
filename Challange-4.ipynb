{
 "cells": [
  {
   "cell_type": "code",
   "execution_count": 1,
   "id": "c40a1119-e331-4a4d-b2e4-79c1db3ba799",
   "metadata": {},
   "outputs": [
    {
     "name": "stdin",
     "output_type": "stream",
     "text": [
      "Enter a number : 5\n"
     ]
    },
    {
     "name": "stdout",
     "output_type": "stream",
     "text": [
      "Factorial of  5 is   120\n"
     ]
    }
   ],
   "source": [
    "### 1. Write a Python Program to Find the Factorial of a Number?\n",
    "fact = int(input('Enter a number :'))\n",
    "p=1\n",
    "for i in range(1,fact+1):\n",
    "    p=p*i\n",
    "print('Factorial of ', fact ,'is  ' ,p)\n",
    "    "
   ]
  },
  {
   "cell_type": "code",
   "execution_count": 3,
   "id": "f7a3fa01-3fae-450b-b52a-6cad9b835e39",
   "metadata": {},
   "outputs": [
    {
     "name": "stdin",
     "output_type": "stream",
     "text": [
      "please enter a number : 4\n"
     ]
    },
    {
     "name": "stdout",
     "output_type": "stream",
     "text": [
      "Multiplication Table of  4 is -\n",
      "4  *  1 = 4\n",
      "4  *  2 = 8\n",
      "4  *  3 = 12\n",
      "4  *  4 = 16\n",
      "4  *  5 = 20\n",
      "4  *  6 = 24\n",
      "4  *  7 = 28\n",
      "4  *  8 = 32\n",
      "4  *  9 = 36\n",
      "4  *  10 = 40\n"
     ]
    }
   ],
   "source": [
    "### 2. Write a Python Program to Display the multiplication Table?\n",
    "mult = int(input('please enter a number :'))\n",
    "i =1\n",
    "print('Multiplication Table of ' , mult ,'is -')\n",
    "while i <=10:\n",
    "    print( mult ,' * ',i, '=' , mult*i)\n",
    "    i=i+1"
   ]
  },
  {
   "cell_type": "code",
   "execution_count": 9,
   "id": "3556c50f-e2c7-4ee6-be90-9588a7ffbe6c",
   "metadata": {},
   "outputs": [
    {
     "name": "stdin",
     "output_type": "stream",
     "text": [
      "Please enter number of term which you want to see in fibonacci series:  4\n"
     ]
    },
    {
     "name": "stdout",
     "output_type": "stream",
     "text": [
      "Fibonacci Series for  4 th term is  [0, 1, 1, 2]\n"
     ]
    }
   ],
   "source": [
    "### 3. Write a Python Program to Print the Fibonacci sequence?\n",
    "series =[0,1]\n",
    "n = int(input('Please enter number of term which you want to see in fibonacci series: '))\n",
    "for i in range(2,n):\n",
    "    a= series[i-1] +series[i-2]\n",
    "    series.append(a)\n",
    "print('Fibonacci Series for ', n,'th term is ',series)"
   ]
  },
  {
   "cell_type": "code",
   "execution_count": 22,
   "id": "41f91817-01e8-4428-9426-0999a5c6eccb",
   "metadata": {},
   "outputs": [
    {
     "name": "stdin",
     "output_type": "stream",
     "text": [
      "please enter a number : 1634\n"
     ]
    },
    {
     "name": "stdout",
     "output_type": "stream",
     "text": [
      "1634  is a Armstrong Number\n"
     ]
    }
   ],
   "source": [
    "### 4. Write a Python Program to Check Armstrong Number?\n",
    "num= input('please enter a number :')\n",
    "arm =0 #defining a global variable\n",
    "lis = list(num)\n",
    "for i in lis:\n",
    "    arm = arm+ int(i)**len(lis)\n",
    "if(arm == int(num)):\n",
    "    print(num , ' is a Armstrong Number')\n",
    "else:\n",
    "    print(num ,'  is not a Armstrong Number')"
   ]
  },
  {
   "cell_type": "code",
   "execution_count": 11,
   "id": "556b5544-9c63-413f-8daa-dedac728f08c",
   "metadata": {},
   "outputs": [
    {
     "data": {
      "text/plain": [
       "4"
      ]
     },
     "execution_count": 11,
     "metadata": {},
     "output_type": "execute_result"
    }
   ],
   "source": [
    "### 5. Write a Python Program to Find Armstrong Number in an Interval?"
   ]
  },
  {
   "cell_type": "code",
   "execution_count": 29,
   "id": "208b55e4-9e26-45c8-8c18-7bae797c0442",
   "metadata": {},
   "outputs": [
    {
     "name": "stdin",
     "output_type": "stream",
     "text": [
      "Please enter a number 10\n"
     ]
    },
    {
     "name": "stdout",
     "output_type": "stream",
     "text": [
      "I want to find sum of first  10 Natural number\n",
      "Sum of first  10 natural number is  55\n"
     ]
    }
   ],
   "source": [
    "### 6. Write a Python Program to Find the Sum of Natural Numbers?\n",
    "a=int(input('Please enter a number'))\n",
    "print('I want to find sum of first ', a ,'Natural number')\n",
    "temp =0\n",
    "for i in range(1,a+1):\n",
    "    temp = temp+ i\n",
    "print('Sum of first ', a ,'natural number is ' ,temp)    "
   ]
  },
  {
   "cell_type": "code",
   "execution_count": null,
   "id": "df093d71-0420-439a-80a4-fac952724ffb",
   "metadata": {},
   "outputs": [],
   "source": []
  }
 ],
 "metadata": {
  "kernelspec": {
   "display_name": "Python 3 (ipykernel)",
   "language": "python",
   "name": "python3"
  },
  "language_info": {
   "codemirror_mode": {
    "name": "ipython",
    "version": 3
   },
   "file_extension": ".py",
   "mimetype": "text/x-python",
   "name": "python",
   "nbconvert_exporter": "python",
   "pygments_lexer": "ipython3",
   "version": "3.10.6"
  }
 },
 "nbformat": 4,
 "nbformat_minor": 5
}
