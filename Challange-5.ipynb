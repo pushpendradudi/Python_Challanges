{
 "cells": [
  {
   "cell_type": "code",
   "execution_count": 18,
   "id": "f41b7879-ed52-41d6-ad55-1abab47a243f",
   "metadata": {},
   "outputs": [
    {
     "name": "stdout",
     "output_type": "stream",
     "text": [
      "enter two numbers to calculate LCM\n"
     ]
    },
    {
     "name": "stdin",
     "output_type": "stream",
     "text": [
      " 4\n",
      " 5\n"
     ]
    },
    {
     "name": "stdout",
     "output_type": "stream",
     "text": [
      "LCM of  4  and  5  is  20\n"
     ]
    }
   ],
   "source": [
    "#1. Write a Python Program to Find LCM?\n",
    "print('enter two numbers to calculate LCM')\n",
    "a= int(input())\n",
    "b= int(input())\n",
    "if a>=b:\n",
    "    greater =a\n",
    "else:\n",
    "    greater =b\n",
    "while a>0:\n",
    "    if(greater%a==0 and greater%b ==0):\n",
    "        lcm = greater\n",
    "        break\n",
    "    else:\n",
    "        greater= greater+1\n",
    "print ('LCM of ', a, ' and ', b,' is ', lcm)"
   ]
  },
  {
   "cell_type": "code",
   "execution_count": 24,
   "id": "8f9e2cd4-ced3-4d96-9311-907fefe783b4",
   "metadata": {},
   "outputs": [
    {
     "name": "stdout",
     "output_type": "stream",
     "text": [
      "enter two numbers to calculate HCF\n"
     ]
    },
    {
     "name": "stdin",
     "output_type": "stream",
     "text": [
      " 4\n",
      " 6\n"
     ]
    },
    {
     "name": "stdout",
     "output_type": "stream",
     "text": [
      "HCF of  4  and  6  is  2\n"
     ]
    }
   ],
   "source": [
    "### 2. Write a Python Program to Find HCF?\n",
    "print('enter two numbers to calculate HCF')\n",
    "a= int(input())\n",
    "b= int(input())\n",
    "if a<=b:\n",
    "    lesser =a \n",
    "else:\n",
    "    lesser =b\n",
    "while True :\n",
    "    if(a%lesser ==0 and b%lesser==0):\n",
    "        hcf= lesser\n",
    "        break\n",
    "    else:\n",
    "        lesser =lesser -1\n",
    "print ('HCF of ', a, ' and ', b,' is ', hcf)"
   ]
  },
  {
   "cell_type": "code",
   "execution_count": 32,
   "id": "5ac639cb-eba1-4913-8313-84944a28f198",
   "metadata": {},
   "outputs": [
    {
     "name": "stdin",
     "output_type": "stream",
     "text": [
      "please enter a decimal number 23\n"
     ]
    },
    {
     "name": "stdout",
     "output_type": "stream",
     "text": [
      "Binary number of  23  is  0b10111\n",
      "Binary number of  23  is  0o27\n",
      "Binary number of  23  is  0x17\n"
     ]
    }
   ],
   "source": [
    "### 3. Write a Python Program to Convert Decimal to Binary, Octal and Hexadecimal?\n",
    "a= int(input('please enter a decimal number'))\n",
    "print('Binary number of ',a,' is ' ,bin(a))\n",
    "print('Binary number of ',a,' is ' ,oct(a))\n",
    "print('Binary number of ',a,' is ' ,hex(a))\n"
   ]
  },
  {
   "cell_type": "code",
   "execution_count": 37,
   "id": "7d979e24-650e-42ed-8c5f-718f8eecc0ee",
   "metadata": {},
   "outputs": [
    {
     "name": "stdin",
     "output_type": "stream",
     "text": [
      "please enter a character P\n"
     ]
    },
    {
     "name": "stdout",
     "output_type": "stream",
     "text": [
      "ASCII value of  P  is  80\n"
     ]
    }
   ],
   "source": [
    "### 4. Write a Python Program To Find ASCII value of a character?\n",
    "a= input('please enter a character')\n",
    "print('ASCII value of ' ,a,' is ' , ord(a))"
   ]
  },
  {
   "cell_type": "code",
   "execution_count": 25,
   "id": "b81fcba4-1260-4571-b902-0b5dccb044d2",
   "metadata": {},
   "outputs": [
    {
     "name": "stdin",
     "output_type": "stream",
     "text": [
      "please enter a first number  2\n",
      "please enter a second  number  3\n"
     ]
    },
    {
     "name": "stdout",
     "output_type": "stream",
     "text": [
      "   Sum of          2  and  3  is =  5\n",
      "Substraction of    2  from 3  is =  -1\n",
      "Multiplication of  2  and  3  is =  6\n",
      "Division of        2  and  3  is =  0.6666666666666666\n"
     ]
    }
   ],
   "source": [
    "### 5. Write a Python Program to Make a Simple Calculator with 4 basic mathematical operations?\n",
    "a =int(input('please enter a first number '))\n",
    "b =int(input('please enter a second  number '))\n",
    "print('   Sum of         ', a ,' and ' ,b ,' is = ',a+b) \n",
    "print('Substraction of   ', a ,' from' ,b ,' is = ',a-b)\n",
    "print('Multiplication of ', a ,' and ' ,b ,' is = ',a*b)\n",
    "print('Division of       ', a ,' and ' ,b ,' is = ',a/b) "
   ]
  }
 ],
 "metadata": {
  "kernelspec": {
   "display_name": "Python 3 (ipykernel)",
   "language": "python",
   "name": "python3"
  },
  "language_info": {
   "codemirror_mode": {
    "name": "ipython",
    "version": 3
   },
   "file_extension": ".py",
   "mimetype": "text/x-python",
   "name": "python",
   "nbconvert_exporter": "python",
   "pygments_lexer": "ipython3",
   "version": "3.10.6"
  }
 },
 "nbformat": 4,
 "nbformat_minor": 5
}
