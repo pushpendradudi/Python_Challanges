{
 "cells": [
  {
   "cell_type": "code",
   "execution_count": 4,
   "id": "3caddc9e-a49c-4bb2-b3a3-256f8472f1f6",
   "metadata": {},
   "outputs": [
    {
     "name": "stdout",
     "output_type": "stream",
     "text": [
      "Hello Python\n"
     ]
    }
   ],
   "source": [
    "#1. Write a Python program to print \"Hello Python\"?\n",
    "print(\"Hello Python\")"
   ]
  },
  {
   "cell_type": "code",
   "execution_count": 5,
   "id": "fafc7c3c-4f8a-416a-9999-0ef682d7524f",
   "metadata": {},
   "outputs": [
    {
     "name": "stdin",
     "output_type": "stream",
     "text": [
      "please enter a first number 15\n",
      "please enter a second number 30\n"
     ]
    },
    {
     "name": "stdout",
     "output_type": "stream",
     "text": [
      "addition of both number is -  45\n",
      "division of both number is -  0.5\n"
     ]
    }
   ],
   "source": [
    "### 2. Write a Python program to do arithmetical operations addition and division.?\n",
    "a = int(input('please enter a first number'))\n",
    "b= int(input('please enter a second number'))\n",
    "print('addition of both number is - ' , a+b)\n",
    "print('division of both number is - ' , a/b)"
   ]
  },
  {
   "cell_type": "code",
   "execution_count": 10,
   "id": "c7e5c873-cc0c-48fa-a775-534907210222",
   "metadata": {},
   "outputs": [
    {
     "name": "stdin",
     "output_type": "stream",
     "text": [
      "please enter length of first side 3\n",
      "please enter length of second side 3\n",
      "please enter length of third side 3\n"
     ]
    },
    {
     "name": "stdout",
     "output_type": "stream",
     "text": [
      "Area of the tringle is -   3.897114317029974\n"
     ]
    }
   ],
   "source": [
    "#3. Write a Python program to find the area of a triangle?\n",
    "#enter the all length of all sides\n",
    "a= float(input('please enter length of first side'))\n",
    "b= float(input('please enter length of second side'))\n",
    "c =float(input('please enter length of third side'))\n",
    "\n",
    "# calculate the s# calculate the semi-perimeter of tringle\n",
    "s =( a+b+c)/2\n",
    "\n",
    "# area of tringle \n",
    "Area = (s*(s-a)*(s-b)*(s-c))**0.5\n",
    "\n",
    "print('Area of the tringle is -  ' , Area)"
   ]
  },
  {
   "cell_type": "code",
   "execution_count": 11,
   "id": "9fc2219b-a206-4768-8667-6f9adcd8e47c",
   "metadata": {},
   "outputs": [
    {
     "name": "stdin",
     "output_type": "stream",
     "text": [
      "enter the value of  x variable :   4\n",
      "enter the value of y variable  :   5\n"
     ]
    },
    {
     "name": "stdout",
     "output_type": "stream",
     "text": [
      " value of x variable after swapping:  5\n",
      " value of x variable after swapping:  4\n"
     ]
    }
   ],
   "source": [
    "#4. Write a Python program to swap two variables?\n",
    "a =input('enter the value of  x variable :  ')\n",
    "b= input('enter the value of y variable  :  ')\n",
    "# create a temporary variable and swap the values\n",
    "c = a \n",
    "a = b \n",
    "b =c\n",
    "print(' value of x variable after swapping: ' , a)\n",
    "print(' value of x variable after swapping: ' , b)\n"
   ]
  },
  {
   "cell_type": "code",
   "execution_count": 21,
   "id": "6486c5e0-56ef-4b43-b025-331e6c0e9a23",
   "metadata": {},
   "outputs": [
    {
     "name": "stdout",
     "output_type": "stream",
     "text": [
      "A random number is   18\n"
     ]
    }
   ],
   "source": [
    "### 5. Write a Python program to generate a random number?\n",
    "import random as rand\n",
    "a = rand.randint(0,22)\n",
    "print('A random number is  ' ,a)"
   ]
  }
 ],
 "metadata": {
  "kernelspec": {
   "display_name": "Python 3 (ipykernel)",
   "language": "python",
   "name": "python3"
  },
  "language_info": {
   "codemirror_mode": {
    "name": "ipython",
    "version": 3
   },
   "file_extension": ".py",
   "mimetype": "text/x-python",
   "name": "python",
   "nbconvert_exporter": "python",
   "pygments_lexer": "ipython3",
   "version": "3.10.6"
  }
 },
 "nbformat": 4,
 "nbformat_minor": 5
}
