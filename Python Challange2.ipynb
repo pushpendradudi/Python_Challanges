{
 "cells": [
  {
   "cell_type": "code",
   "execution_count": 1,
   "id": "6bf82274-78b4-4f97-959e-63a5dfe6d1b9",
   "metadata": {},
   "outputs": [
    {
     "name": "stdin",
     "output_type": "stream",
     "text": [
      "please enter number of KMs 4\n"
     ]
    },
    {
     "name": "stdout",
     "output_type": "stream",
     "text": [
      "value of  4  in miles is  6.437376\n"
     ]
    }
   ],
   "source": [
    "### 1. Write a Python program to convert kilometers to miles?\n",
    "km = int(input('please enter number of KMs'))\n",
    "mile = km*1.609344\n",
    "print('value of ' , km ,'Kilometers in miles is  ', mile) "
   ]
  },
  {
   "cell_type": "code",
   "execution_count": 10,
   "id": "d4c7575c-b218-4360-83e1-d2096c5a597a",
   "metadata": {},
   "outputs": [
    {
     "name": "stdin",
     "output_type": "stream",
     "text": [
      "please enter the value of temperature in celsius:  40\n"
     ]
    },
    {
     "name": "stdout",
     "output_type": "stream",
     "text": [
      "value of  40  celsius in fahrenheit is :  104.0\n"
     ]
    }
   ],
   "source": [
    "### 2.Write a Python program to convert Celsius to Fahrenheit?\n",
    "celsius = int(input('please enter the value of temperature in celsius: '))\n",
    "fahrenheit = celsius * 1.8 + 32\n",
    "print('value of ' , celsius , ' celsius in fahrenheit is : ' , fahrenheit)"
   ]
  },
  {
   "cell_type": "code",
   "execution_count": 16,
   "id": "63505fc0-1bff-4519-bb8f-1e502302205c",
   "metadata": {},
   "outputs": [
    {
     "name": "stdin",
     "output_type": "stream",
     "text": [
      "enter the year : 2022\n",
      "enter the month : 11\n"
     ]
    },
    {
     "name": "stdout",
     "output_type": "stream",
     "text": [
      "   November 2022\n",
      "Mo Tu We Th Fr Sa Su\n",
      "    1  2  3  4  5  6\n",
      " 7  8  9 10 11 12 13\n",
      "14 15 16 17 18 19 20\n",
      "21 22 23 24 25 26 27\n",
      "28 29 30\n",
      "\n"
     ]
    }
   ],
   "source": [
    "### 3. Write a Python program to display calendar?\n",
    "import calendar \n",
    "yyyy = int(input('enter the year :'))\n",
    "mm = int(input('enter the month :'))\n",
    "print(calendar.month(yyyy,mm))"
   ]
  },
  {
   "cell_type": "code",
   "execution_count": 22,
   "id": "8ab65b0d-2592-4a57-90e9-0bff7004a322",
   "metadata": {},
   "outputs": [
    {
     "name": "stdout",
     "output_type": "stream",
     "text": [
      "Enter the value of a ,b and c of this quadartic equation = a*x*x + b*x + c\n"
     ]
    },
    {
     "name": "stdin",
     "output_type": "stream",
     "text": [
      " 1\n",
      " 5\n",
      " 6\n"
     ]
    },
    {
     "name": "stdout",
     "output_type": "stream",
     "text": [
      "factor of this quadratic equation is x1 and x2   -2.0  ,  -3.0\n"
     ]
    }
   ],
   "source": [
    "### 4. Write a Python program to solve quadratic equation?\n",
    "print('Enter the value of a ,b and c of this quadartic equation = a*x*x + b*x + c')\n",
    "a = float(input())\n",
    "b= float(input())\n",
    "c =float(input())\n",
    "x1 = (-b+(b*b -4*a*c)**0.5)/2*a\n",
    "x2 = (-b-(b*b -4*a*c)**0.5)/2*a\n",
    "print('factor of this quadratic equation is x1 and x2  ' , x1 ,' , ' ,x2) "
   ]
  },
  {
   "cell_type": "code",
   "execution_count": 25,
   "id": "8c8835e0-a4a7-4cd8-a4b9-ada66bbfddf9",
   "metadata": {},
   "outputs": [
    {
     "name": "stdin",
     "output_type": "stream",
     "text": [
      "please enter the value of x :  5\n",
      "please enter the value of y :  yes\n"
     ]
    },
    {
     "name": "stdout",
     "output_type": "stream",
     "text": [
      "after swapping x variable is : yes\n",
      "after swapping y variable is : 5\n"
     ]
    }
   ],
   "source": [
    "### 5. Write a Python program to swap two variables without temp variable?\n",
    "x= input(\"please enter the value of x : \")\n",
    "y =input(\"please enter the value of y : \")\n",
    "x,y =y,x\n",
    "print(\"after swapping x variable is :\", x)\n",
    "print(\"after swapping y variable is :\" ,y)"
   ]
  },
  {
   "cell_type": "code",
   "execution_count": null,
   "id": "7cea6edd-ed08-4e63-861d-c1a5cfe5b879",
   "metadata": {},
   "outputs": [],
   "source": []
  }
 ],
 "metadata": {
  "kernelspec": {
   "display_name": "Python 3 (ipykernel)",
   "language": "python",
   "name": "python3"
  },
  "language_info": {
   "codemirror_mode": {
    "name": "ipython",
    "version": 3
   },
   "file_extension": ".py",
   "mimetype": "text/x-python",
   "name": "python",
   "nbconvert_exporter": "python",
   "pygments_lexer": "ipython3",
   "version": "3.10.6"
  }
 },
 "nbformat": 4,
 "nbformat_minor": 5
}
