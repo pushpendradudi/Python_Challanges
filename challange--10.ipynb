{
 "cells": [
  {
   "cell_type": "code",
   "execution_count": 1,
   "id": "60413e40-e991-4984-a30b-f74b126940b3",
   "metadata": {},
   "outputs": [
    {
     "name": "stdout",
     "output_type": "stream",
     "text": [
      "Sum of all elements is  28\n"
     ]
    }
   ],
   "source": [
    "### 1. Write a Python program to find sum of elements in list?\n",
    "a =[1,5,9,3,10]\n",
    "b=0\n",
    "for i in a:\n",
    "    b=b+i\n",
    "print('Sum of all elements is ' , b)"
   ]
  },
  {
   "cell_type": "code",
   "execution_count": 1,
   "id": "b0d53fe3-93d9-4817-bfb0-59a171e0b93a",
   "metadata": {},
   "outputs": [
    {
     "name": "stdout",
     "output_type": "stream",
     "text": [
      "Multiplication  of all elements is  1350\n"
     ]
    }
   ],
   "source": [
    "### 2. Write a Python program to  Multiply all numbers in the list?\n",
    "a =[1,5,9,3,10]\n",
    "b=1\n",
    "for i in a:\n",
    "    b=b*i\n",
    "print('Multiplication  of all elements is ' , b)"
   ]
  },
  {
   "cell_type": "code",
   "execution_count": 10,
   "id": "1bd5217e-9a85-4faf-9f37-92432f16adf6",
   "metadata": {},
   "outputs": [
    {
     "name": "stdout",
     "output_type": "stream",
     "text": [
      "Smallest number in this list  is  3\n"
     ]
    }
   ],
   "source": [
    "### 3. Write a Python program to find smallest number in a list?\n",
    "a =[5,7,3,10,45,67,10]\n",
    "smaller = a[0]\n",
    "for i in range(len(a)-1):\n",
    "    if smaller<=a[i+1]:\n",
    "        b= smaller\n",
    "       \n",
    "    else:\n",
    "        smaller =a[i+1]\n",
    "print('Smallest number in this list  is ' , smaller)"
   ]
  },
  {
   "cell_type": "code",
   "execution_count": 13,
   "id": "615fcbf6-87d0-4513-957d-d58494f25422",
   "metadata": {},
   "outputs": [
    {
     "name": "stdout",
     "output_type": "stream",
     "text": [
      "Largest number in this list  is  67\n"
     ]
    }
   ],
   "source": [
    "### 4. Write a Python program to find largest number in a list?\n",
    "a =[5,7,3,10,45,67,10]\n",
    "larger  = a[0]\n",
    "for i in range(len(a)-1):\n",
    "    if larger>=a[i+1]:\n",
    "        b= larger\n",
    "       \n",
    "    else:\n",
    "        larger =a[i+1]\n",
    "print('Largest number in this list  is ' , larger)"
   ]
  },
  {
   "cell_type": "code",
   "execution_count": 6,
   "id": "537d7b88-91e7-45aa-8388-ff2d8ed63c48",
   "metadata": {},
   "outputs": [
    {
     "name": "stdout",
     "output_type": "stream",
     "text": [
      "Second Highest element in list is  45\n"
     ]
    }
   ],
   "source": [
    "### 5. Write a Python program to find second largest number in a list?\n",
    "a =[5,7,3,10,45,67,10]\n",
    "mx =max(a[0],a[1])\n",
    "secondmax=min(a[0],a[1])\n",
    "for i in range(2,len(a)):\n",
    "    if(a[i]>mx):\n",
    "        secondmax= mx\n",
    "        mx=a[i]\n",
    "    elif a[i]> secondmax and a[i] != mx:\n",
    "        secondmax =a[i]\n",
    "    elif mx== secondmax and secondmax != a[i]:\n",
    "        secondmax =a[i]\n",
    "print('Second Highest element in list is ', secondmax)"
   ]
  },
  {
   "cell_type": "code",
   "execution_count": 15,
   "id": "822a4fcc-cb77-4834-9465-c2c95ff32b0a",
   "metadata": {},
   "outputs": [
    {
     "name": "stdin",
     "output_type": "stream",
     "text": [
      "Print largest number 4\n"
     ]
    },
    {
     "name": "stdout",
     "output_type": "stream",
     "text": [
      "4   largest number of  [2, 3, 5, 7, 8, 9, 12, 45]  is  [80, 68, 48, 46]\n"
     ]
    }
   ],
   "source": [
    "### 6. Write a Python program to find N largest elements from a list?\n",
    "a =[2,3,5,7,8,9,12,45,46,48,68,80]\n",
    "n = int(input('Print largest number' ))\n",
    "b=[]\n",
    "for i in range(n):\n",
    "    mx =0\n",
    "    for j in range(len(a)):\n",
    "        if a[j]>mx:\n",
    "            mx=a[j]\n",
    "    a.remove(mx)\n",
    "    b.append(mx)\n",
    "print(n, '  largest number of ', a ,' is ', b)\n",
    "        "
   ]
  },
  {
   "cell_type": "code",
   "execution_count": 4,
   "id": "471d35c8-2887-432e-8788-e73ccfc71644",
   "metadata": {},
   "outputs": [
    {
     "name": "stdout",
     "output_type": "stream",
     "text": [
      "Even numbers list is  [2, 8, 12, 46, 48, 68, 80]\n"
     ]
    }
   ],
   "source": [
    "### 7. Write a Python program to print even numbers in a list?\n",
    "a =[2,3,5,7,8,9,12,45,46,48,68,80]\n",
    "even =[]\n",
    "for i in a:\n",
    "    if i%2==0:\n",
    "        even.append(i)\n",
    "    \n",
    "print('Even numbers list is ' ,even)      "
   ]
  },
  {
   "cell_type": "code",
   "execution_count": 6,
   "id": "6ed79912-f709-4baa-a705-a958ececabda",
   "metadata": {},
   "outputs": [
    {
     "name": "stdout",
     "output_type": "stream",
     "text": [
      "Even numbers list is  [3, 5, 7, 9, 45]\n"
     ]
    }
   ],
   "source": [
    "### 8. Write a Python program to print odd numbers in a List?\n",
    "a =[2,3,5,7,8,9,12,45,46,48,68,80]\n",
    "odd =[]\n",
    "for i in a:\n",
    "    if i%2==1:\n",
    "        odd.append(i)\n",
    "    \n",
    "print('Even numbers list is ' ,odd)  "
   ]
  },
  {
   "cell_type": "code",
   "execution_count": 9,
   "id": "0003b000-c6a7-4d13-a12a-471884449740",
   "metadata": {},
   "outputs": [
    {
     "name": "stdout",
     "output_type": "stream",
     "text": [
      "List after removing empty list is  [1, 2, [1, 2, 3], 5, [7]]\n"
     ]
    }
   ],
   "source": [
    "### 9. Write a Python program to Remove empty List from List?\n",
    "a =[1,2,[1,2,3],[],5,[7],[]]\n",
    "b=[]\n",
    "for i in a:\n",
    "    if i==[]:\n",
    "        continue\n",
    "    else:\n",
    "        b.append(i)\n",
    "print('List after removing empty list is ' ,b)"
   ]
  },
  {
   "cell_type": "code",
   "execution_count": 6,
   "id": "304ef9cc-fdfa-4b1f-9183-214f058ca5fb",
   "metadata": {},
   "outputs": [
    {
     "name": "stdout",
     "output_type": "stream",
     "text": [
      "Copy of list a is  [15, 6, 7, 10, 12, 20, 10, 28, 10]\n"
     ]
    }
   ],
   "source": [
    "### 10. Write a Python program to Cloning or Copying a list?\n",
    "a = [15, 6, 7, 10, 12, 20, 10, 28, 10]\n",
    "b=[]\n",
    "for i in range(len(a)):\n",
    "    b.append(a[i])\n",
    "print('Copy of list a is ' ,b)"
   ]
  },
  {
   "cell_type": "code",
   "execution_count": 4,
   "id": "966c09ec-13bb-4ee4-b792-fb86ecf21ea3",
   "metadata": {},
   "outputs": [
    {
     "name": "stdin",
     "output_type": "stream",
     "text": [
      "please enter a number 10\n"
     ]
    },
    {
     "name": "stdout",
     "output_type": "stream",
     "text": [
      "Total occurrences of  10  is  3\n"
     ]
    }
   ],
   "source": [
    "### 11. Write a Python program to Count occurrences of an element in a list?\n",
    "a = [15, 6, 7, 10, 12, 20, 10, 28, 10]\n",
    "b = int(input('please enter a number'))\n",
    "count = 0\n",
    "for i in a:\n",
    "    if b==i:\n",
    "        count =count+1\n",
    "print('Total occurrences of ' ,b ,' is ' ,count)"
   ]
  },
  {
   "cell_type": "code",
   "execution_count": 19,
   "id": "45d7cba2-ef9a-422d-9498-b6839e53ca6f",
   "metadata": {},
   "outputs": [
    {
     "name": "stdin",
     "output_type": "stream",
     "text": [
      "Print largest number 3\n"
     ]
    },
    {
     "name": "stdout",
     "output_type": "stream",
     "text": [
      "3   largest number of  [7, 8, 9, 12, 45, 46, 48, 68, 80]  is  [2, 3, 5]\n"
     ]
    }
   ],
   "source": [
    "### 6. Write a Python program to find N largest elements from a list?\n",
    "a =[2,3,5,7,8,9,12,45,46,48,68,80]\n",
    "n = int(input('Print largest number' ))\n",
    "b=[]\n",
    "for i in range(n):\n",
    "    mx =a[0]\n",
    "    for j in range(1,len(a)):\n",
    "        if a[j]<mx:\n",
    "            mx=a[j]\n",
    "    a.remove(mx)\n",
    "    b.append(mx)\n",
    "      \n",
    "print(n, '  largest number of ', a ,' is ', b)"
   ]
  },
  {
   "cell_type": "markdown",
   "id": "74a52928-9819-44a8-aeb4-a926fa5a4cbe",
   "metadata": {},
   "source": [
    "### "
   ]
  }
 ],
 "metadata": {
  "kernelspec": {
   "display_name": "Python 3 (ipykernel)",
   "language": "python",
   "name": "python3"
  },
  "language_info": {
   "codemirror_mode": {
    "name": "ipython",
    "version": 3
   },
   "file_extension": ".py",
   "mimetype": "text/x-python",
   "name": "python",
   "nbconvert_exporter": "python",
   "pygments_lexer": "ipython3",
   "version": "3.10.6"
  }
 },
 "nbformat": 4,
 "nbformat_minor": 5
}
