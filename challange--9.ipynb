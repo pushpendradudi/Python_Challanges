{
 "cells": [
  {
   "cell_type": "code",
   "execution_count": 8,
   "id": "082b2e73-5af5-498d-86df-b64ff6cce3bd",
   "metadata": {},
   "outputs": [
    {
     "name": "stdin",
     "output_type": "stream",
     "text": [
      "please enter a number 89\n"
     ]
    },
    {
     "name": "stdout",
     "output_type": "stream",
     "text": [
      "89  is a Disarium Number\n"
     ]
    }
   ],
   "source": [
    "### 1. Write a Python program to check if the given number is a Disarium Number?\n",
    "x = input('please enter a number')\n",
    "num =int(x)\n",
    "lis =list(x)\n",
    "s=0\n",
    "for i in range(len(lis)):\n",
    "       s=s+int(lis[i])**(i+1)\n",
    "    \n",
    "if s==num:\n",
    "          print(num , ' is a Disarium Number')\n",
    "else:\n",
    "          print(num , '  is not a Disarium Number')\n",
    "       "
   ]
  },
  {
   "cell_type": "code",
   "execution_count": 14,
   "id": "c428a05c-1128-40d8-8a60-6e391194a2ba",
   "metadata": {},
   "outputs": [
    {
     "name": "stdout",
     "output_type": "stream",
     "text": [
      "All disarium number between 1 to 100 is  [1, 2, 3, 4, 5, 6, 7, 8, 9, 89]\n"
     ]
    }
   ],
   "source": [
    "### 2. Write a Python program to print all disarium numbers between 1 to 100?\n",
    "disarium =[]\n",
    "for i in range(1,101):\n",
    "    a=str(i)\n",
    "    s=0\n",
    "    for j in range(len(a)):\n",
    "        s=s+int(a[j])**(j+1)\n",
    "    if s==i:\n",
    "        disarium.append(i)\n",
    "    else:\n",
    "        continue\n",
    "print('All disarium number between 1 to 100 is ', disarium)"
   ]
  },
  {
   "cell_type": "code",
   "execution_count": 12,
   "id": "6d6a8f02-fd49-4b72-b46e-7cfccb0909b1",
   "metadata": {},
   "outputs": [
    {
     "name": "stdout",
     "output_type": "stream",
     "text": [
      "32  is a Happy Number\n"
     ]
    }
   ],
   "source": [
    "### 3. Write a Python program to check if the given number is Happy Number?\n",
    "def numSquareSum(n):\n",
    "    squareSum = 0;\n",
    "    while(n):\n",
    "        squareSum += (n % 10) * (n % 10);\n",
    "        n = int(n / 10);\n",
    "    return squareSum;\n",
    " \n",
    "def isHappynumber(n):\n",
    "    slow = n;\n",
    "    fast = n;\n",
    "    while(True):\n",
    "          \n",
    "        slow = numSquareSum(slow);\n",
    "        fast = numSquareSum(numSquareSum(fast));\n",
    "        if(slow != fast):\n",
    "            continue;\n",
    "        else:\n",
    "            break;\n",
    "    return (slow == 1);\n",
    "n=32\n",
    "if  (isHappynumber(n)):\n",
    "    print(n ,' is a Happy Number')\n",
    "else:\n",
    "    print(n ,' is not a Happy Number')\n"
   ]
  },
  {
   "cell_type": "code",
   "execution_count": 13,
   "id": "029ebbd0-223a-42e4-b5f2-3c119945203e",
   "metadata": {},
   "outputs": [
    {
     "name": "stdout",
     "output_type": "stream",
     "text": [
      "Happy Numbers between 1 to 100 is  [1, 7, 10, 13, 19, 23, 28, 31, 32, 44, 49, 68, 70, 79, 82, 86, 91, 94, 97, 100]\n"
     ]
    }
   ],
   "source": [
    "### 4. Write a Python program to print all happy numbers between 1 and 100?\n",
    "def numSquareSum(n):\n",
    "    squareSum = 0;\n",
    "    while(n):\n",
    "        squareSum += (n % 10) * (n % 10);\n",
    "        n = int(n / 10);\n",
    "    return squareSum;\n",
    " \n",
    "def isHappynumber(n):\n",
    " \n",
    "    # initialize slow\n",
    "    # and fast by n\n",
    "    slow = n;\n",
    "    fast = n;\n",
    "    while(True):\n",
    "         \n",
    "        # move slow number\n",
    "        # by one iteration\n",
    "        slow = numSquareSum(slow);\n",
    " \n",
    "        # move fast number\n",
    "        # by two iteration\n",
    "        fast = numSquareSum(numSquareSum(fast));\n",
    "        if(slow != fast):\n",
    "            continue;\n",
    "        else:\n",
    "            break;\n",
    " \n",
    "    # if both number meet at 1,\n",
    "    # then return true\n",
    "    return (slow == 1);\n",
    "a=[]\n",
    "for n in range(1,101):\n",
    "    if  (isHappynumber(n)):\n",
    "        a.append(n)\n",
    "print('Happy Numbers between 1 to 100 is ' ,a)"
   ]
  },
  {
   "cell_type": "code",
   "execution_count": 21,
   "id": "bf718f3d-e99c-498c-a208-86027c182c25",
   "metadata": {},
   "outputs": [
    {
     "name": "stdin",
     "output_type": "stream",
     "text": [
      "please enter a number 22\n"
     ]
    },
    {
     "name": "stdout",
     "output_type": "stream",
     "text": [
      "22  is not a Harshad number\n"
     ]
    }
   ],
   "source": [
    "### 5. Write a Python program to determine whether the given number is a Harshad Number?\n",
    "num = input('please enter a number')\n",
    "x =list(num)\n",
    "s=0\n",
    "for i in x:\n",
    "    s=s+int(i)\n",
    "if int(num)%s==0:\n",
    "    print(num ,' is a Harshad number')\n",
    "else:\n",
    "    print(num ,' is not a Harshad number')\n",
    "    "
   ]
  },
  {
   "cell_type": "code",
   "execution_count": 23,
   "id": "6d3c0c53-de20-4e7c-a968-fe03ea211606",
   "metadata": {},
   "outputs": [
    {
     "name": "stdout",
     "output_type": "stream",
     "text": [
      "Pornic numbers b/w 1 to 100 is  [2, 6, 12, 20, 30, 42, 56, 72, 90]\n"
     ]
    }
   ],
   "source": [
    "### 6. Write a Python program to print all pronic numbers between 1 and 100?\n",
    "num = []\n",
    "for i in range(1,101):\n",
    "    for j in range(1,i+1):\n",
    "        if j*(j+1) ==i:\n",
    "            num.append(i)\n",
    "print('Pornic numbers b/w 1 to 100 is ' ,num)\n",
    "            "
   ]
  },
  {
   "cell_type": "code",
   "execution_count": null,
   "id": "603f6602-ac90-400d-be4a-54f846f71ec9",
   "metadata": {},
   "outputs": [],
   "source": []
  }
 ],
 "metadata": {
  "kernelspec": {
   "display_name": "Python 3 (ipykernel)",
   "language": "python",
   "name": "python3"
  },
  "language_info": {
   "codemirror_mode": {
    "name": "ipython",
    "version": 3
   },
   "file_extension": ".py",
   "mimetype": "text/x-python",
   "name": "python",
   "nbconvert_exporter": "python",
   "pygments_lexer": "ipython3",
   "version": "3.10.6"
  }
 },
 "nbformat": 4,
 "nbformat_minor": 5
}
