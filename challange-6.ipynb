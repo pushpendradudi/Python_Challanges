{
 "cells": [
  {
   "cell_type": "code",
   "execution_count": 17,
   "id": "aa4043c2-5b1e-492b-9ad9-ffaf3be5c206",
   "metadata": {},
   "outputs": [
    {
     "name": "stdin",
     "output_type": "stream",
     "text": [
      "please enter a number 6\n"
     ]
    },
    {
     "name": "stdout",
     "output_type": "stream",
     "text": [
      "fibonacci Series of first  6  numbers is : \n",
      " [0, 1, 1, 2, 3, 5]\n"
     ]
    }
   ],
   "source": [
    "### 1. Write a Python Program to Display Fibonacci Sequence Using Recursion?\n",
    "def fibonacci(i) :\n",
    "    if (i==0):\n",
    "        return 0\n",
    "    elif i==1:\n",
    "        return 1\n",
    "    else:\n",
    "        return fibonacci(i-1) + fibonacci(i-2)\n",
    "a =int(input('please enter a number'))\n",
    "b =[]\n",
    "for x in range(a):\n",
    "    b.append(fibonacci(x))\n",
    "print('fibonacci Series of first ' , a,' numbers is :','\\n',b)"
   ]
  },
  {
   "cell_type": "code",
   "execution_count": 18,
   "id": "502ac938-5d5a-4b1b-9821-af00112b28ef",
   "metadata": {},
   "outputs": [
    {
     "name": "stdin",
     "output_type": "stream",
     "text": [
      " 5\n"
     ]
    },
    {
     "name": "stdout",
     "output_type": "stream",
     "text": [
      "120\n"
     ]
    }
   ],
   "source": [
    "### 2. Write a Python Program to Find Factorial of Number Using Recursion?\n",
    "def factorial(i):\n",
    "    if(i==0):\n",
    "        return 1\n",
    "    elif i==1:\n",
    "        return 1\n",
    "    else:\n",
    "        return i*factorial(i-1)\n",
    "a = int(input())\n",
    "print(factorial(a))"
   ]
  },
  {
   "cell_type": "code",
   "execution_count": 2,
   "id": "35200420-532b-47cf-9a21-d483957d46a1",
   "metadata": {},
   "outputs": [
    {
     "name": "stdin",
     "output_type": "stream",
     "text": [
      "please enter the person weight(in kg) 40\n",
      "please enter the person height(in meter) 2\n"
     ]
    },
    {
     "name": "stdout",
     "output_type": "stream",
     "text": [
      "BMI of above person is  10.0\n"
     ]
    }
   ],
   "source": [
    "### 3. Write a Python Program to calculate your Body Mass Index?\n",
    "Weight = float(input('please enter the person weight(in kg)'))\n",
    "Height = float(input('please enter the person height(in meter)'))\n",
    "BMI = Weight/(Height)**2\n",
    "print('BMI of above person is ', BMI)"
   ]
  },
  {
   "cell_type": "code",
   "execution_count": 3,
   "id": "8d849b5f-525d-4783-9a19-74394045600e",
   "metadata": {},
   "outputs": [
    {
     "name": "stdin",
     "output_type": "stream",
     "text": [
      "please a number:  10\n"
     ]
    },
    {
     "name": "stdout",
     "output_type": "stream",
     "text": [
      "Natural logarithm value of  10.0  is  2.302585092994046\n"
     ]
    }
   ],
   "source": [
    "### 4. Write a Python Program to calculate the natural logarithm of any number?\n",
    "#Natural logarithm means base will be e = 2.7304\n",
    "import math \n",
    "a =float(input('please a number: '))\n",
    "print('Natural logarithm value of ',a ,' is ', math.log(a))  "
   ]
  },
  {
   "cell_type": "code",
   "execution_count": 7,
   "id": "773e28e4-c6a3-4ed5-bbaf-b884d333b485",
   "metadata": {},
   "outputs": [
    {
     "name": "stdin",
     "output_type": "stream",
     "text": [
      "please enter a number 4\n"
     ]
    },
    {
     "name": "stdout",
     "output_type": "stream",
     "text": [
      " Cube Sum of first  4  Natural Numbers is  100\n"
     ]
    }
   ],
   "source": [
    "### 5. Write a Python Program for cube sum of first n natural numbers?\n",
    "a = int(input('please enter a number'))\n",
    "i=0\n",
    "for g in range(1,a+1):\n",
    "    i =i + g**3 \n",
    "print(' Cube Sum of first ' , a ,' Natural Numbers is ', i)"
   ]
  }
 ],
 "metadata": {
  "kernelspec": {
   "display_name": "Python 3 (ipykernel)",
   "language": "python",
   "name": "python3"
  },
  "language_info": {
   "codemirror_mode": {
    "name": "ipython",
    "version": 3
   },
   "file_extension": ".py",
   "mimetype": "text/x-python",
   "name": "python",
   "nbconvert_exporter": "python",
   "pygments_lexer": "ipython3",
   "version": "3.10.6"
  }
 },
 "nbformat": 4,
 "nbformat_minor": 5
}
